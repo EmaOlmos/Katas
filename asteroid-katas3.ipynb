{
 "cells": [
  {
   "cell_type": "markdown",
   "metadata": {},
   "source": [
    "# Asteroide (if, else, elif)\n",
    "Un asteroide se acerca a la tierra a una velocidad de 49 km/s\n",
    "* Cualquier velocidad superior a 25km/s merece una advertencia."
   ]
  },
  {
   "cell_type": "code",
   "execution_count": 4,
   "metadata": {},
   "outputs": [
    {
     "name": "stdout",
     "output_type": "stream",
     "text": [
      "¡Alerta! ¡El asteroide viene muy rápido! (49km/s)\n"
     ]
    }
   ],
   "source": [
    "astVel = 49;\n",
    "if astVel > 25:\n",
    "    print(\"¡Alerta! ¡El asteroide viene muy rápido! \" + \"(\" + str(astVel) + \"km/s)\")\n",
    "else:\n",
    "    print(\"Nada de que preocuparse, ningún asteroide viene a la tierra a velocidad peligrosa :)\")"
   ]
  },
  {
   "cell_type": "markdown",
   "metadata": {},
   "source": [
    "Asteroide 2: 19 km/s\n",
    "* Si un asteroide entra en la atmósfera de la Tierra a una velocidad mayor o igual a 20 km/s, a veces produce un rayo de luz que se puede ver desde la Tierra"
   ]
  },
  {
   "cell_type": "code",
   "execution_count": 7,
   "metadata": {},
   "outputs": [
    {
     "name": "stdout",
     "output_type": "stream",
     "text": [
      "Otro día normal aquí en la tierra, oh si.\n"
     ]
    }
   ],
   "source": [
    "astVel = 19\n",
    "if astVel >= 20:\n",
    "    print(\"Atención. El día de hoy se verán unos pequeños destellos en el cielo debido a un asteroide entrando, no hay riesgo ¡Disfruten la vista!\")\n",
    "else:\n",
    "    print(\"Otro día normal aquí en la tierra, oh si.\")"
   ]
  },
  {
   "cell_type": "markdown",
   "metadata": {},
   "source": [
    "# Asteroide (and / or)\n",
    "* Asteroides de < de 25m, se desintegran\n",
    "* Si es > 25m, < 1,000m y golpea la tierra, causará mucho daño\n",
    "\n",
    "* Cualquier velocidad superior a 25km/s merece una advertencia\n",
    "* Si un asteroide entra en la atmósfera de la Tierra a una velocidad mayor o igual a 20 km/s, a veces produce un rayo de luz que se puede ver desde la Tierra"
   ]
  },
  {
   "cell_type": "code",
   "execution_count": 59,
   "metadata": {},
   "outputs": [
    {
     "name": "stdout",
     "output_type": "stream",
     "text": [
      "Advertencia por un asteroide acercándose rápido hacia la tierra\n",
      "\n",
      "Nuevo informe, no hay peligro, ¡El asteroide se desintegrará!\n"
     ]
    }
   ],
   "source": [
    "astTam = 10\n",
    "astVel = 26\n",
    "\n",
    "if astVel >= 25:\n",
    "    print(\"Advertencia por un asteroide acercándose rápido hacia la tierra\\n\")\n",
    "    if astTam < 25:\n",
    "        print(\"Nuevo informe, no hay peligro, ¡El asteroide se desintegrará!\")\n",
    "    elif astTam >= 25 and astTam < 1000:\n",
    "        print(\"ADVERTENCIA, EL ASTEROIDE QUE VIENE ES ENORME\")\n",
    "elif astTam < 25 and (astVel >= 20 and astVel < 25):\n",
    "    print(\"¡Hoy habrá un espectáculo de luces en el cielo!\")\n",
    "else:\n",
    "    print(\"Nada que ver aquí hoy u.u\")\n",
    "\n",
    "\n",
    "\n",
    "\n",
    "\n"
   ]
  }
 ],
 "metadata": {
  "interpreter": {
   "hash": "4ce0e62306dd6a5716965d4519ada776f947e6dfc145b604b11307c10277ef29"
  },
  "kernelspec": {
   "display_name": "Python 3.8.5 64-bit",
   "language": "python",
   "name": "python3"
  },
  "language_info": {
   "codemirror_mode": {
    "name": "ipython",
    "version": 3
   },
   "file_extension": ".py",
   "mimetype": "text/x-python",
   "name": "python",
   "nbconvert_exporter": "python",
   "pygments_lexer": "ipython3",
   "version": "3.8.5"
  },
  "orig_nbformat": 4
 },
 "nbformat": 4,
 "nbformat_minor": 2
}
