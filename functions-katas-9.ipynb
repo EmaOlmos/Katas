{
 "cells": [
  {
   "cell_type": "markdown",
   "metadata": {},
   "source": [
    "# Uso de funciones en python"
   ]
  },
  {
   "cell_type": "code",
   "execution_count": 8,
   "metadata": {},
   "outputs": [],
   "source": [
    "#Función para leer 3 tanques de combustible y muestre el promedio\n",
    "def prom(comb1,comb2,comb3):\n",
    "   tot = comb1 + comb2 + comb3\n",
    "   return prom2(tot)"
   ]
  },
  {
   "cell_type": "code",
   "execution_count": 13,
   "metadata": {},
   "outputs": [
    {
     "name": "stdout",
     "output_type": "stream",
     "text": [
      "5.333333333333333\n"
     ]
    }
   ],
   "source": [
    "#Llamamos a la función que genera el reporte print(funcion(tanque1, tanque2, tanque3))\n",
    "print(prom(5,5,6))"
   ]
  },
  {
   "cell_type": "code",
   "execution_count": 10,
   "metadata": {},
   "outputs": [],
   "source": [
    "def prom2(combTot):\n",
    "    return combTot/3"
   ]
  },
  {
   "cell_type": "markdown",
   "metadata": {},
   "source": [
    "# Argumentos de  palabras clave"
   ]
  },
  {
   "cell_type": "code",
   "execution_count": 17,
   "metadata": {},
   "outputs": [
    {
     "name": "stdout",
     "output_type": "stream",
     "text": [
      "\n",
      "    Hora de prelanzamiento: 14\n",
      "    Tiempo de vuelo: 51\n",
      "    Destino: Moon\n",
      "    Tanque externo: 200000\n",
      "    Tanque interno: 300000    \n",
      "    \n"
     ]
    }
   ],
   "source": [
    "# Función con un informe preciso de la misión. Considera hora de prelanzamiento, tiempo de vuelo, destino, tanque externo y tanque interno\n",
    "def inform(preHour, flyTime, dest, extTank, intTank):\n",
    "    return f\"\"\"\n",
    "    Hora de prelanzamiento: {preHour}\n",
    "    Tiempo de vuelo: {flyTime}\n",
    "    Destino: {dest}\n",
    "    Tanque externo: {extTank}\n",
    "    Tanque interno: {intTank}    \n",
    "    \"\"\"\n",
    "\n",
    "print(inform(14, 51, \"Luna\", 200000, 300000))\n"
   ]
  },
  {
   "cell_type": "code",
   "execution_count": 19,
   "metadata": {},
   "outputs": [
    {
     "name": "stdout",
     "output_type": "stream",
     "text": [
      "\n",
      "    Destino: Luna\n",
      "    Tiempo de vuelo: 76 minutos\n",
      "    Combustible restante: dict_values([300000, 200000])\n",
      "\n",
      "    \n"
     ]
    }
   ],
   "source": [
    "# Escribe tu nueva función de reporte \n",
    "def inform2(dest, *mins, **combRest): \n",
    "    return f\"\"\"\n",
    "    Destino: {dest}\n",
    "    Tiempo de vuelo: {sum(mins)} minutos\n",
    "    Combustible restante: {combRest.values()}\n",
    "\n",
    "    \"\"\"\n",
    "\n",
    "print(inform2(\"Luna\", 10, 15, 51, main=300000, external=200000))\n"
   ]
  },
  {
   "cell_type": "code",
   "execution_count": 22,
   "metadata": {},
   "outputs": [
    {
     "name": "stdout",
     "output_type": "stream",
     "text": [
      "\n",
      "    Destino: Luna\n",
      "    Tiempo de vuelo: 76 minutos\n",
      "    Combustible restante: 500000\n",
      "\n",
      "    Al tanque main--> le quedan 300000 galones \n",
      "Al tanque external--> le quedan 200000 galones \n",
      "\n"
     ]
    }
   ],
   "source": [
    "def inform3(dest, *mins, **combRest): \n",
    "    mainRep = f\"\"\"\n",
    "    Destino: {dest}\n",
    "    Tiempo de vuelo: {sum(mins)} minutos\n",
    "    Combustible restante: {sum(combRest.values())}\n",
    "\n",
    "    \"\"\"\n",
    "    for tankName, gallons in combRest.items():\n",
    "        mainRep += f\"Al tanque {tankName}--> le quedan {gallons} galones \\n\"\n",
    "    return mainRep\n",
    "\n",
    "\n",
    "print(inform3(\"Luna\", 10, 15, 51, main=300000, external=200000)) \n",
    "\n"
   ]
  }
 ],
 "metadata": {
  "interpreter": {
   "hash": "4ce0e62306dd6a5716965d4519ada776f947e6dfc145b604b11307c10277ef29"
  },
  "kernelspec": {
   "display_name": "Python 3.8.5 64-bit",
   "language": "python",
   "name": "python3"
  },
  "language_info": {
   "codemirror_mode": {
    "name": "ipython",
    "version": 3
   },
   "file_extension": ".py",
   "mimetype": "text/x-python",
   "name": "python",
   "nbconvert_exporter": "python",
   "pygments_lexer": "ipython3",
   "version": "3.8.5"
  },
  "orig_nbformat": 4
 },
 "nbformat": 4,
 "nbformat_minor": 2
}
